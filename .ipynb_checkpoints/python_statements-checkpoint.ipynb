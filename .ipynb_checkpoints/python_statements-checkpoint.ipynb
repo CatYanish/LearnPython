{
 "cells": [
  {
   "cell_type": "code",
   "execution_count": 1,
   "metadata": {},
   "outputs": [
    {
     "name": "stdout",
     "output_type": "stream",
     "text": [
      "It was true\n"
     ]
    }
   ],
   "source": [
    "if True:\n",
    "    print 'It was true'"
   ]
  },
  {
   "cell_type": "code",
   "execution_count": 2,
   "metadata": {},
   "outputs": [
    {
     "name": "stdout",
     "output_type": "stream",
     "text": [
      "z was true\n"
     ]
    }
   ],
   "source": [
    "z = 'False'\n",
    "\n",
    "if z:\n",
    "    print 'z was true'\n",
    "else:\n",
    "    print 'I will print when z is anything not true'"
   ]
  },
  {
   "cell_type": "code",
   "execution_count": 3,
   "metadata": {},
   "outputs": [
    {
     "name": "stdout",
     "output_type": "stream",
     "text": [
      "i will print when z is anything but true\n"
     ]
    }
   ],
   "source": [
    "z = False\n",
    "\n",
    "if z:\n",
    "    print 'z was true'\n",
    "else:\n",
    "    print 'i will print when z is anything but true'"
   ]
  },
  {
   "cell_type": "code",
   "execution_count": 4,
   "metadata": {},
   "outputs": [
    {
     "name": "stdout",
     "output_type": "stream",
     "text": [
      "chill time\n"
     ]
    }
   ],
   "source": [
    "loc = 'house'\n",
    "\n",
    "if loc == 'house':\n",
    "    print 'chill time'\n",
    "elif loc == 'work':\n",
    "    print 'money time'\n",
    "else:\n",
    "    print 'party time'"
   ]
  },
  {
   "cell_type": "code",
   "execution_count": null,
   "metadata": {
    "collapsed": true
   },
   "outputs": [],
   "source": []
  }
 ],
 "metadata": {
  "kernelspec": {
   "display_name": "Python 2",
   "language": "python",
   "name": "python2"
  },
  "language_info": {
   "codemirror_mode": {
    "name": "ipython",
    "version": 2
   },
   "file_extension": ".py",
   "mimetype": "text/x-python",
   "name": "python",
   "nbconvert_exporter": "python",
   "pygments_lexer": "ipython2",
   "version": "2.7.14"
  }
 },
 "nbformat": 4,
 "nbformat_minor": 2
}
